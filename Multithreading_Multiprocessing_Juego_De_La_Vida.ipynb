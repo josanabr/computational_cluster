{
  "nbformat": 4,
  "nbformat_minor": 0,
  "metadata": {
    "colab": {
      "provenance": [],
      "toc_visible": true,
      "authorship_tag": "ABX9TyMrdgFC9jb8v5WwwbM3nUg5",
      "include_colab_link": true
    },
    "kernelspec": {
      "name": "python3",
      "display_name": "Python 3"
    },
    "language_info": {
      "name": "python"
    }
  },
  "cells": [
    {
      "cell_type": "markdown",
      "metadata": {
        "id": "view-in-github",
        "colab_type": "text"
      },
      "source": [
        "<a href=\"https://colab.research.google.com/github/josanabr/computational_cluster/blob/master/Multithreading_Multiprocessing_Juego_De_La_Vida.ipynb\" target=\"_parent\"><img src=\"https://colab.research.google.com/assets/colab-badge.svg\" alt=\"Open In Colab\"/></a>"
      ]
    },
    {
      "cell_type": "markdown",
      "source": [
        "# Multithreading y Multiprocessing \n",
        "\n",
        "En este Notebook se mostrará la diferencia en tiempos de ejecución entre un programa escrito con la librería `multithreading` y la `multiprocessing`.\n",
        "\n",
        "Para llevar a cabo este estudio se usará como aplicación ejemplo [El juego de la vida de Conway](https://en.wikipedia.org/wiki/Conway%27s_Game_of_Life)."
      ],
      "metadata": {
        "id": "Eu6MRusrqYMk"
      }
    },
    {
      "cell_type": "markdown",
      "source": [
        "## Conociendo el entorno\n",
        "\n",
        "Inicialmente vamos a conocer cuantos núcleos nos ofrecen en este entorno de Notebook en Google Colab."
      ],
      "metadata": {
        "id": "sdUd0WXhrHnw"
      }
    },
    {
      "cell_type": "code",
      "execution_count": null,
      "metadata": {
        "colab": {
          "base_uri": "https://localhost:8080/"
        },
        "id": "fHt1IqocqJzV",
        "outputId": "9cf49212-01e7-4ffb-bbf4-4c1dded3e7b6"
      },
      "outputs": [
        {
          "output_type": "stream",
          "name": "stdout",
          "text": [
            "Numero de CPUs lógicas: 2\n"
          ]
        }
      ],
      "source": [
        "#\n",
        "# Tomado de: https://superfastpython.com/number-of-cpus-python/#CPU_Count_with_multiprocessingcpu_count\n",
        "#\n",
        "from multiprocessing import cpu_count\n",
        "\n",
        "n_cores = cpu_count()\n",
        "\n",
        "print(f'Numero de CPUs lógicas: {n_cores}')"
      ]
    },
    {
      "cell_type": "markdown",
      "source": [
        "## Código del juego de la vida de Conway\n",
        "\n",
        "En esta sección se verán algunas implementaciones del algoritmo del juego de la vida de Conway. \n",
        "Inicialmente se verá una versión secuencial, luego se introducirán los elementos para que esta versión secuencial se ejecute con el módulo de `multithreading` y luego `multiprocessing`."
      ],
      "metadata": {
        "id": "9GeYe3xDrxp9"
      }
    },
    {
      "cell_type": "markdown",
      "source": [
        "### Versión secuencial\n"
      ],
      "metadata": {
        "id": "K543kM3JsOgk"
      }
    },
    {
      "cell_type": "code",
      "source": [
        "# Version SECUENCIAL del juego de la vida de Conway\n",
        "#\n",
        "# Autor: John Sanabria - john.sanabria@correounivalle.edu.co\n",
        "# Fecha: 2023-02-22\n",
        "\n",
        "import numpy as np\n",
        "from time import time\n",
        "\n",
        "MAX_X = 10\n",
        "MAX_Y = 10\n",
        "\n",
        "#\n",
        "# Funciones auxiliares usadas para estimar los vecinos de una celda y\n",
        "# garantizar que los valores del borde no se vayan a sobrepasar\n",
        "#\n",
        "def posx(x, max_x = MAX_X):\n",
        "  return (x + max_x) % max_x\n",
        "\n",
        "def posy(y, max_y = MAX_Y):\n",
        "  return (y + max_y) % max_y\n",
        "\n",
        "def indice(x,y, max_x = MAX_X):\n",
        "  return posx(x) + posy(y) * max_x\n",
        "\n",
        "#\n",
        "# Esta funcion se encarga de contar los 8 vecinos de una celda cuales están\n",
        "# vivos (valor a '1') o cuantos están muertos (valor a '0')\n",
        "#\n",
        "#                 |                |\n",
        "#  (X - 1, Y - 1) | (  X  , Y - 1) | (X + 1, Y - 1)\n",
        "#                 |                |\n",
        "# --------------------------------------------------\n",
        "#                 |                |\n",
        "#  (X - 1,   Y  ) | (  X  ,   Y  ) | (X + 1,   Y  )\n",
        "#                 |                |\n",
        "# --------------------------------------------------\n",
        "#                 |                |\n",
        "#  (X - 1, Y + 1) | (  X  , Y + 1) | (X + 1, Y + 1)\n",
        "#                 |                |\n",
        "\n",
        "def vecinos(x,y,vector):\n",
        "  return vector[ indice(x - 1, y - 1) ] + vector[ indice(x - 1, y) ] + vector[ indice(x - 1, y + 1) ] \\\n",
        "  + vector[ indice(x, y - 1) ] + vector[ indice(x, y + 1) ] \\\n",
        "  + vector[ indice(x + 1, y - 1) ] + vector[ indice(x + 1, y) ] + vector[ indice(x + 1, y + 1) ]\n",
        "#\n",
        "# Esta función se encarga de recorrer toda las celdas y estimar cuales de ellas \n",
        "# vivirán y cuales no \n",
        "#\n",
        "def conway(vector_out, vector_in, low_limit = 0, high_limit = MAX_X):\n",
        "  for i in range(low_limit,high_limit):\n",
        "    for j in range(0,MAX_Y):\n",
        "      n = vecinos(i,j, vector_in)\n",
        "      valor = 0\n",
        "      if vector_in[ indice(i,j) ] == 1 and (n == 2 or n == 3):\n",
        "        valor = 1\n",
        "      elif vector_in[ indice(i,j) ] == 0 and n == 3:\n",
        "        valor = 1\n",
        "      vector_out[ indice(i,j) ] = valor\n",
        "\n",
        "#\n",
        "# Función principal\n",
        "#\n",
        "if __name__ == '__main__':\n",
        "  vector = np.int32( np.random.choice([1,0], MAX_X * MAX_Y, p = [0.50, 0.50]) )\n",
        "  vector_out = np.empty(MAX_X * MAX_Y, dtype = np.int32)\n",
        "  print(vector)\n",
        "  t1 = time()\n",
        "  conway(vector_out, vector)\n",
        "  t2 = time()\n",
        "  print(vector_out)\n",
        "  print(f\"El tiempo que tomó calcular {t2 - t1}\")"
      ],
      "metadata": {
        "colab": {
          "base_uri": "https://localhost:8080/"
        },
        "id": "CCuRWEvBtQqg",
        "outputId": "546adc8b-7109-4b27-c15f-3e180094ef11"
      },
      "execution_count": 41,
      "outputs": [
        {
          "output_type": "stream",
          "name": "stdout",
          "text": [
            "[1 1 0 0 1 0 0 0 0 0 1 0 1 0 0 0 0 1 0 1 0 0 0 1 1 0 0 1 0 0 1 0 1 1 1 1 1\n",
            " 0 1 1 0 0 1 1 0 1 0 0 0 1 1 0 0 1 1 0 0 1 1 1 0 0 1 1 1 1 0 1 1 1 1 1 1 0\n",
            " 0 1 0 0 0 0 0 0 0 0 1 0 1 0 1 1 1 0 0 1 0 0 0 0 0 0]\n",
            "El tiempo que tomó calcular 0.002218008041381836\n",
            "[0 0 1 1 0 0 0 0 0 0 1 0 1 0 1 0 0 0 1 1 0 0 0 0 0 0 0 1 0 0 1 1 0 0 0 0 1\n",
            " 1 1 1 0 0 0 0 0 0 0 0 0 0 1 1 0 0 0 0 0 1 0 0 0 0 0 0 0 1 0 1 0 0 1 1 1 0\n",
            " 0 0 0 0 0 0 0 0 1 1 1 1 0 0 0 1 1 1 0 1 1 1 0 0 0 0]\n"
          ]
        }
      ]
    },
    {
      "cell_type": "markdown",
      "source": [
        "### Versión multithreading"
      ],
      "metadata": {
        "id": "w6VccN8eq_bK"
      }
    },
    {
      "cell_type": "code",
      "source": [
        "# Version MULTITHREADING del juego de la vida de Conway\n",
        "#\n",
        "# Autor: John Sanabria - john.sanabria@correounivalle.edu.co\n",
        "# Fecha: 2023-02-22\n",
        "\n",
        "import numpy as np\n",
        "from threading import Thread\n",
        "from multiprocessing import cpu_count\n",
        "from time import time\n",
        "\n",
        "MAX_UNITS = cpu_count() * 2\n",
        "MAX_X = 500\n",
        "MAX_Y = 500\n",
        "\n",
        "#\n",
        "# Funciones auxiliares usadas para estimar los vecinos de una celda y\n",
        "# garantizar que los valores del borde no se vayan a sobrepasar\n",
        "#\n",
        "\n",
        "def posx(x, max_x = MAX_X):\n",
        "  return (x + max_x) % max_x\n",
        "\n",
        "def posy(y, max_y = MAX_Y):\n",
        "  return (y + max_y) % max_y\n",
        "\n",
        "def indice(x,y, max_x = MAX_X):\n",
        "  return posx(x) + posy(y) * max_x\n",
        "\n",
        "#\n",
        "# Esta funcion se encarga de contar los 8 vecinos de una celda cuales están\n",
        "# vivos (valor a '1') o cuantos están muertos (valor a '0')\n",
        "#\n",
        "#                 |                |\n",
        "#  (X - 1, Y - 1) | (  X  , Y - 1) | (X + 1, Y - 1)\n",
        "#                 |                |\n",
        "# --------------------------------------------------\n",
        "#                 |                |\n",
        "#  (X - 1,   Y  ) | (  X  ,   Y  ) | (X + 1,   Y  )\n",
        "#                 |                |\n",
        "# --------------------------------------------------\n",
        "#                 |                |\n",
        "#  (X - 1, Y + 1) | (  X  , Y + 1) | (X + 1, Y + 1)\n",
        "#\n",
        "\n",
        "def vecinos(x,y,vector):\n",
        "  return vector[ indice(x - 1, y - 1) ] + vector[ indice(x - 1, y) ] + vector[ indice(x - 1, y + 1) ] \\\n",
        "  + vector[ indice(x, y - 1) ] + vector[ indice(x, y + 1) ] \\\n",
        "  + vector[ indice(x + 1, y - 1) ] + vector[ indice(x + 1, y) ] + vector[ indice(x + 1, y + 1) ]\n",
        "#\n",
        "# Esta función se encarga de recorrer toda las celdas y estimar cuales de ellas \n",
        "# vivirán y cuales no \n",
        "#\n",
        "def conway(vector_out, vector_in, low_limit = 0, high_limit = MAX_X):\n",
        "  for i in range(low_limit,high_limit):\n",
        "    for j in range(0,MAX_Y):\n",
        "      n = vecinos(i,j, vector_in)\n",
        "      valor = 0\n",
        "      if vector_in[ indice(i,j) ] == 1 and (n == 2 or n == 3):\n",
        "        valor = 1\n",
        "      elif vector_in[ indice(i,j) ] == 0 and n == 3:\n",
        "        valor = 1\n",
        "      vector_out[ indice(i,j) ] = valor\n",
        "\n",
        "#\n",
        "# Función principal\n",
        "#\n",
        "if __name__ == '__main__':\n",
        "  vector = np.int32( np.random.choice([1,0], MAX_X * MAX_Y, p = [0.50, 0.50]) )\n",
        "  vector_out = np.empty(MAX_X * MAX_Y, dtype = np.int32)\n",
        "  print(vector)\n",
        "  # Variables usadas para hacer la partición de las filas que procesara cada\n",
        "  # hilo\n",
        "  stride = np.int32(MAX_X / MAX_UNITS)\n",
        "  count = np.int32(0)\n",
        "  workers = [] # arreglo que almacenará aquellos hilos que se ejecutan\n",
        "  for t in range(MAX_UNITS):\n",
        "    worker = Thread(target = conway,\n",
        "                    args = (vector_out, vector, count, count + stride))\n",
        "    worker.daemon = True\n",
        "    workers.append(worker)\n",
        "    count = count + stride\n",
        "\n",
        "  t1 = time()\n",
        "  for worker in workers:\n",
        "    worker.start()\n",
        "  # Ciclo que espera por la terminación de todos los hilos que se lanzaron\n",
        "  for worker in workers:\n",
        "    worker.join()\n",
        "  t2 = time()\n",
        "  print(vector_out)\n",
        "  print(f\"El tiempo que tomó calcular {t2 - t1}\")"
      ],
      "metadata": {
        "colab": {
          "base_uri": "https://localhost:8080/"
        },
        "id": "GMaq0apPqt9z",
        "outputId": "ff349ff7-7341-4e86-cf11-6934074496f8"
      },
      "execution_count": 43,
      "outputs": [
        {
          "output_type": "stream",
          "name": "stdout",
          "text": [
            "[1 0 0 ... 0 0 1]\n",
            "[1 0 0 ... 0 0 0]\n",
            "El tiempo que tomó calcular 3.4421157836914062\n"
          ]
        }
      ]
    },
    {
      "cell_type": "markdown",
      "source": [
        "### Versión multiprocessing"
      ],
      "metadata": {
        "id": "G0TDDiemy-16"
      }
    },
    {
      "cell_type": "code",
      "source": [
        "# Version MULTIPROCESSING del juego de la vida de Conway\n",
        "#\n",
        "# Autor: John Sanabria - john.sanabria@correounivalle.edu.co\n",
        "# Fecha: 2023-02-22\n",
        "\n",
        "import numpy as np\n",
        "from multiprocessing import Process\n",
        "from multiprocessing import cpu_count\n",
        "from time import time\n",
        "\n",
        "MAX_UNITS = cpu_count() * 2\n",
        "MAX_X = 10\n",
        "MAX_Y = 10\n",
        "\n",
        "#\n",
        "# Funciones auxiliares usadas para estimar los vecinos de una celda y\n",
        "# garantizar que los valores del borde no se vayan a sobrepasar\n",
        "#\n",
        "\n",
        "def posx(x, max_x = MAX_X):\n",
        "  return (x + max_x) % max_x\n",
        "\n",
        "def posy(y, max_y = MAX_Y):\n",
        "  return (y + max_y) % max_y\n",
        "\n",
        "def indice(x,y, max_x = MAX_X):\n",
        "  return posx(x) + posy(y) * max_x\n",
        "\n",
        "#\n",
        "# Esta funcion se encarga de contar los 8 vecinos de una celda cuales están\n",
        "# vivos (valor a '1') o cuantos están muertos (valor a '0')\n",
        "#\n",
        "#                 |                |\n",
        "#  (X - 1, Y - 1) | (  X  , Y - 1) | (X + 1, Y - 1)\n",
        "#                 |                |\n",
        "# --------------------------------------------------\n",
        "#                 |                |\n",
        "#  (X - 1,   Y  ) | (  X  ,   Y  ) | (X + 1,   Y  )\n",
        "#                 |                |\n",
        "# --------------------------------------------------\n",
        "#                 |                |\n",
        "#  (X - 1, Y + 1) | (  X  , Y + 1) | (X + 1, Y + 1)\n",
        "#\n",
        "\n",
        "def vecinos(x,y,vector):\n",
        "  return vector[ indice(x - 1, y - 1) ] + vector[ indice(x - 1, y) ] + vector[ indice(x - 1, y + 1) ] \\\n",
        "  + vector[ indice(x, y - 1) ] + vector[ indice(x, y + 1) ] \\\n",
        "  + vector[ indice(x + 1, y - 1) ] + vector[ indice(x + 1, y) ] + vector[ indice(x + 1, y + 1) ]\n",
        "#\n",
        "# Esta función se encarga de recorrer toda las celdas y estimar cuales de ellas \n",
        "# vivirán y cuales no \n",
        "#\n",
        "def conway(vector_out, vector_in, low_limit = 0, high_limit = MAX_X):\n",
        "  for i in range(low_limit,high_limit):\n",
        "    for j in range(0,MAX_Y):\n",
        "      n = vecinos(i,j, vector_in)\n",
        "      valor = 0\n",
        "      if vector_in[ indice(i,j) ] == 1 and (n == 2 or n == 3):\n",
        "        valor = 1\n",
        "      elif vector_in[ indice(i,j) ] == 0 and n == 3:\n",
        "        valor = 1\n",
        "      vector_out[ indice(i,j) ] = valor\n",
        "\n",
        "#\n",
        "# Función principal\n",
        "#\n",
        "if __name__ == '__main__':\n",
        "  vector = np.int32( np.random.choice([1,0], MAX_X * MAX_Y, p = [0.50, 0.50]) )\n",
        "  vector_out = np.empty(MAX_X * MAX_Y, dtype = np.int32)\n",
        "  print(vector)\n",
        "  # Variables usadas para hacer la partición de las filas que trabajará cada\n",
        "  # proceso\n",
        "  stride = np.int32(MAX_X / MAX_UNITS)\n",
        "  count = np.int32(0)\n",
        "  workers = [] # arreglo que almacenará aquellos procesos que se crearán\n",
        "  for t in range(MAX_UNITS):\n",
        "    worker = Process(target = conway,\n",
        "                    args = (vector_out, vector, count, count + stride))\n",
        "    worker.daemon = True\n",
        "    workers.append(worker)\n",
        "    count = count + stride\n",
        "  # Ciclo que lanza la ejecución de los procesos que se crearon\n",
        "  t1 = time()\n",
        "  for worker in workers:\n",
        "    worker.start()\n",
        "  # Ciclo que espera por la terminación de todos los procesos que se lanzaron\n",
        "  for worker in workers:\n",
        "    worker.join()\n",
        "  t2 = time()\n",
        "  print(vector_out)\n",
        "  print(f\"El tiempo que tomó calcular {t2 - t1}\")"
      ],
      "metadata": {
        "colab": {
          "base_uri": "https://localhost:8080/"
        },
        "outputId": "bea15e7e-2886-443e-fe9b-9d3638a4bc00",
        "id": "zbjxzk18y-17"
      },
      "execution_count": 47,
      "outputs": [
        {
          "output_type": "stream",
          "name": "stdout",
          "text": [
            "[1 0 1 1 0 0 1 1 1 1 1 1 1 1 0 1 0 1 0 0 1 0 1 1 0 1 1 1 0 0 0 0 0 0 1 0 0\n",
            " 1 0 1 1 1 0 1 0 0 1 1 1 1 0 1 1 0 1 1 0 0 1 1 1 0 1 1 0 0 0 1 0 0 1 0 0 0\n",
            " 1 0 1 0 0 1 1 1 0 1 1 1 0 0 1 0 0 0 1 1 0 0 0 0 1 0]\n",
            "[1 1 0 0 1 0 0 0 0 0 1 0 1 0 0 0 0 1 0 1 0 0 0 1 1 0 0 1 0 0 1 0 1 1 1 1 1\n",
            " 0 1 1 0 0 1 1 0 1 0 0 0 1 1 0 0 1 1 0 0 1 1 1 0 0 1 1 1 1 0 1 1 1 1 1 1 0\n",
            " 0 1 0 0 0 0 0 0 0 0 1 0 1 0 1 1 1 0 0 1 0 0 0 0 0 0]\n",
            "El tiempo que tomó calcular 0.05081605911254883\n"
          ]
        }
      ]
    }
  ]
}